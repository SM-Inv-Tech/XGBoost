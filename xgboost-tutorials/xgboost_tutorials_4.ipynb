{
 "cells": [
  {
   "cell_type": "markdown",
   "metadata": {
    "pycharm": {
     "name": "#%% md\n"
    }
   },
   "source": [
    "## XGBoost练习4"
   ]
  },
  {
   "cell_type": "code",
   "execution_count": 1,
   "metadata": {
    "collapsed": false,
    "jupyter": {
     "outputs_hidden": false
    },
    "pycharm": {
     "name": "#%%\n"
    }
   },
   "outputs": [],
   "source": [
    "import numpy as np\n",
    "import pandas as pd\n",
    "import matplotlib.pyplot as plt\n",
    "import matplotlib as mpl\n",
    "from sklearn.datasets import load_svmlight_file\n",
    "\n",
    "import xgboost\n",
    "\n",
    "from jupyterthemes import jtplot\n",
    "jtplot.style(\"gruvboxl\")\n",
    "\n",
    "mpl.rcParams[\"font.sans-serif\"] = [\"SimHei\"]\n",
    "mpl.rcParams[\"axes.unicode_minus\"] = False"
   ]
  },
  {
   "cell_type": "code",
   "execution_count": 2,
   "metadata": {
    "collapsed": false,
    "jupyter": {
     "outputs_hidden": false
    },
    "pycharm": {
     "name": "#%%\n"
    }
   },
   "outputs": [],
   "source": [
    "def train():\n",
    "    x_train, y_train = load_svmlight_file(f=\"dataset/agaricus/agaricus.txt.train\")\n",
    "    x_test, y_test = load_svmlight_file(f=\"dataset/agaricus/agaricus.txt.test\")\n",
    "    model = xgboost.XGBClassifier(n_estimators=10, max_depth=2, learning_rate=0.1)\n",
    "    model.fit(X=x_train, y=y_train, eval_set=[(x_test, y_test)])\n",
    "\n",
    "    assert model.n_classes_ == 2\n",
    "\n",
    "    # 进行预测\n",
    "    # 使用第一个棵树进行预测\n",
    "    y_pred_1 = model.predict(X=x_test, iteration_range=(0, 1))\n",
    "    # 使用所有的树进行预测\n",
    "    y_pred_2 = model.predict(X=x_test)\n",
    "\n",
    "    print(\"error of y_pred_1=%f\" % (np.sum((y_pred_1 > 0.5) != y_test) / float(len(y_test))))\n",
    "    print(\"error of y_pred_2=%f\" % (np.sum((y_pred_2 > 0.5) != y_test) / float(len(y_test))))"
   ]
  },
  {
   "cell_type": "code",
   "execution_count": 3,
   "metadata": {
    "collapsed": false,
    "jupyter": {
     "outputs_hidden": false
    },
    "pycharm": {
     "name": "#%%\n"
    }
   },
   "outputs": [
    {
     "name": "stdout",
     "output_type": "stream",
     "text": [
      "[0]\tvalidation_0-logloss:0.61414\n",
      "[1]\tvalidation_0-logloss:0.54934\n",
      "[2]\tvalidation_0-logloss:0.49450\n",
      "[3]\tvalidation_0-logloss:0.44817\n",
      "[4]\tvalidation_0-logloss:0.40884\n",
      "[5]\tvalidation_0-logloss:0.37246\n",
      "[6]\tvalidation_0-logloss:0.34223\n",
      "[7]\tvalidation_0-logloss:0.31378\n",
      "[8]\tvalidation_0-logloss:0.28929\n",
      "[9]\tvalidation_0-logloss:0.26827\n",
      "error of y_pred_1=0.042831\n",
      "error of y_pred_2=0.024829\n"
     ]
    }
   ],
   "source": [
    "if __name__ == \"__main__\":\n",
    "    train()\n"
   ]
  }
 ],
 "metadata": {
  "kernelspec": {
   "display_name": "Python 3",
   "language": "python",
   "name": "python3"
  },
  "language_info": {
   "codemirror_mode": {
    "name": "ipython",
    "version": 3
   },
   "file_extension": ".py",
   "mimetype": "text/x-python",
   "name": "python",
   "nbconvert_exporter": "python",
   "pygments_lexer": "ipython3",
   "version": "3.8.3"
  }
 },
 "nbformat": 4,
 "nbformat_minor": 4
}
