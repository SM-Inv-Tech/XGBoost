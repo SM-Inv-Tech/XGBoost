{
 "cells": [
  {
   "cell_type": "code",
   "execution_count": 1,
   "metadata": {},
   "outputs": [],
   "source": [
    "## XGBoost练习5"
   ]
  },
  {
   "cell_type": "code",
   "execution_count": 2,
   "metadata": {
    "collapsed": false,
    "jupyter": {
     "outputs_hidden": false
    },
    "pycharm": {
     "name": "#%%\n"
    }
   },
   "outputs": [],
   "source": [
    "import numpy as np\n",
    "import pandas as pd\n",
    "import matplotlib as mpl\n",
    "import matplotlib.pyplot as plt\n",
    "\n",
    "from sklearn.datasets import load_svmlight_file\n",
    "\n",
    "import xgboost\n",
    "\n",
    "from jupyterthemes import jtplot\n",
    "jtplot.style(\"gruvboxl\")"
   ]
  },
  {
   "cell_type": "code",
   "execution_count": 3,
   "metadata": {
    "collapsed": false,
    "jupyter": {
     "outputs_hidden": false
    },
    "pycharm": {
     "name": "#%%\n"
    }
   },
   "outputs": [
    {
     "name": "stdout",
     "output_type": "stream",
     "text": [
      "[0]\tvalidation_0-logloss:0.57280\n",
      "[1]\tvalidation_0-logloss:0.53179\n",
      "[2]\tvalidation_0-logloss:0.51619\n",
      "[3]\tvalidation_0-logloss:0.50999\n",
      "[4]\tvalidation_0-logloss:0.50747\n",
      "[5]\tvalidation_0-logloss:0.50644\n",
      "[6]\tvalidation_0-logloss:0.50601\n",
      "[7]\tvalidation_0-logloss:0.50583\n",
      "[8]\tvalidation_0-logloss:0.50575\n",
      "[9]\tvalidation_0-logloss:0.50572\n",
      "error=0.121043\n"
     ]
    }
   ],
   "source": [
    "x_train, y_train = load_svmlight_file(\"dataset/agaricus/agaricus.txt.train\")\n",
    "x_test, y_test = load_svmlight_file(\"dataset/agaricus/agaricus.txt.test\")\n",
    "\n",
    "model = xgboost.XGBClassifier(objective=\"binary:logistic\", booster=\"gblinear\", n_estimators=10, reg_alpha=0.001, reg_lambda=1, early_stopping_rounds=5)\n",
    "model.fit(X=x_train, y=y_train, eval_set=[(x_test, y_test)])\n",
    "\n",
    "y_pred = model.predict(X=x_test)\n",
    "print('error=%f' % (sum(1 for i in range(len(y_pred)) if int(y_pred[i] > 0.5) != y_test[i]) / float(len(y_pred))))\n"
   ]
  }
 ],
 "metadata": {
  "kernelspec": {
   "display_name": "Python 3",
   "language": "python",
   "name": "python3"
  },
  "language_info": {
   "codemirror_mode": {
    "name": "ipython",
    "version": 3
   },
   "file_extension": ".py",
   "mimetype": "text/x-python",
   "name": "python",
   "nbconvert_exporter": "python",
   "pygments_lexer": "ipython3",
   "version": "3.8.3"
  }
 },
 "nbformat": 4,
 "nbformat_minor": 4
}
