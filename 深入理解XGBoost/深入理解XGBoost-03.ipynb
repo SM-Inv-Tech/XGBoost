{
 "cells": [
  {
   "cell_type": "code",
   "execution_count": 37,
   "metadata": {
    "collapsed": true
   },
   "outputs": [],
   "source": [
    "## XGBoost回归问题"
   ]
  },
  {
   "cell_type": "code",
   "execution_count": 38,
   "outputs": [],
   "source": [
    "import numpy as np\n",
    "import pandas as pd\n",
    "import xgboost as xgb\n",
    "from sklearn.model_selection import train_test_split\n",
    "from sklearn.metrics import mean_squared_error"
   ],
   "metadata": {
    "collapsed": false,
    "pycharm": {
     "name": "#%%\n"
    }
   }
  },
  {
   "cell_type": "code",
   "execution_count": 39,
   "outputs": [
    {
     "data": {
      "text/plain": "   Cement (component 1)(kg in a m^3 mixture)  \\\n0                                      540.0   \n1                                      540.0   \n2                                      332.5   \n3                                      332.5   \n4                                      198.6   \n5                                      266.0   \n6                                      380.0   \n7                                      380.0   \n8                                      266.0   \n9                                      475.0   \n\n   Blast Furnace Slag (component 2)(kg in a m^3 mixture)  \\\n0                                                0.0       \n1                                                0.0       \n2                                              142.5       \n3                                              142.5       \n4                                              132.4       \n5                                              114.0       \n6                                               95.0       \n7                                               95.0       \n8                                              114.0       \n9                                                0.0       \n\n   Fly Ash (component 3)(kg in a m^3 mixture)  \\\n0                                         0.0   \n1                                         0.0   \n2                                         0.0   \n3                                         0.0   \n4                                         0.0   \n5                                         0.0   \n6                                         0.0   \n7                                         0.0   \n8                                         0.0   \n9                                         0.0   \n\n   Water  (component 4)(kg in a m^3 mixture)  \\\n0                                      162.0   \n1                                      162.0   \n2                                      228.0   \n3                                      228.0   \n4                                      192.0   \n5                                      228.0   \n6                                      228.0   \n7                                      228.0   \n8                                      228.0   \n9                                      228.0   \n\n   Superplasticizer (component 5)(kg in a m^3 mixture)  \\\n0                                                2.5     \n1                                                2.5     \n2                                                0.0     \n3                                                0.0     \n4                                                0.0     \n5                                                0.0     \n6                                                0.0     \n7                                                0.0     \n8                                                0.0     \n9                                                0.0     \n\n   Coarse Aggregate  (component 6)(kg in a m^3 mixture)  \\\n0                                             1040.0      \n1                                             1055.0      \n2                                              932.0      \n3                                              932.0      \n4                                              978.4      \n5                                              932.0      \n6                                              932.0      \n7                                              932.0      \n8                                              932.0      \n9                                              932.0      \n\n   Fine Aggregate (component 7)(kg in a m^3 mixture)  Age (day)  \\\n0                                              676.0         28   \n1                                              676.0         28   \n2                                              594.0        270   \n3                                              594.0        365   \n4                                              825.5        360   \n5                                              670.0         90   \n6                                              594.0        365   \n7                                              594.0         28   \n8                                              670.0         28   \n9                                              594.0         28   \n\n   Concrete compressive strength(MPa, megapascals)   \n0                                         79.986111  \n1                                         61.887366  \n2                                         40.269535  \n3                                         41.052780  \n4                                         44.296075  \n5                                         47.029847  \n6                                         43.698299  \n7                                         36.447770  \n8                                         45.854291  \n9                                         39.289790  ",
      "text/html": "<div>\n<style scoped>\n    .dataframe tbody tr th:only-of-type {\n        vertical-align: middle;\n    }\n\n    .dataframe tbody tr th {\n        vertical-align: top;\n    }\n\n    .dataframe thead th {\n        text-align: right;\n    }\n</style>\n<table border=\"1\" class=\"dataframe\">\n  <thead>\n    <tr style=\"text-align: right;\">\n      <th></th>\n      <th>Cement (component 1)(kg in a m^3 mixture)</th>\n      <th>Blast Furnace Slag (component 2)(kg in a m^3 mixture)</th>\n      <th>Fly Ash (component 3)(kg in a m^3 mixture)</th>\n      <th>Water  (component 4)(kg in a m^3 mixture)</th>\n      <th>Superplasticizer (component 5)(kg in a m^3 mixture)</th>\n      <th>Coarse Aggregate  (component 6)(kg in a m^3 mixture)</th>\n      <th>Fine Aggregate (component 7)(kg in a m^3 mixture)</th>\n      <th>Age (day)</th>\n      <th>Concrete compressive strength(MPa, megapascals)</th>\n    </tr>\n  </thead>\n  <tbody>\n    <tr>\n      <th>0</th>\n      <td>540.0</td>\n      <td>0.0</td>\n      <td>0.0</td>\n      <td>162.0</td>\n      <td>2.5</td>\n      <td>1040.0</td>\n      <td>676.0</td>\n      <td>28</td>\n      <td>79.986111</td>\n    </tr>\n    <tr>\n      <th>1</th>\n      <td>540.0</td>\n      <td>0.0</td>\n      <td>0.0</td>\n      <td>162.0</td>\n      <td>2.5</td>\n      <td>1055.0</td>\n      <td>676.0</td>\n      <td>28</td>\n      <td>61.887366</td>\n    </tr>\n    <tr>\n      <th>2</th>\n      <td>332.5</td>\n      <td>142.5</td>\n      <td>0.0</td>\n      <td>228.0</td>\n      <td>0.0</td>\n      <td>932.0</td>\n      <td>594.0</td>\n      <td>270</td>\n      <td>40.269535</td>\n    </tr>\n    <tr>\n      <th>3</th>\n      <td>332.5</td>\n      <td>142.5</td>\n      <td>0.0</td>\n      <td>228.0</td>\n      <td>0.0</td>\n      <td>932.0</td>\n      <td>594.0</td>\n      <td>365</td>\n      <td>41.052780</td>\n    </tr>\n    <tr>\n      <th>4</th>\n      <td>198.6</td>\n      <td>132.4</td>\n      <td>0.0</td>\n      <td>192.0</td>\n      <td>0.0</td>\n      <td>978.4</td>\n      <td>825.5</td>\n      <td>360</td>\n      <td>44.296075</td>\n    </tr>\n    <tr>\n      <th>5</th>\n      <td>266.0</td>\n      <td>114.0</td>\n      <td>0.0</td>\n      <td>228.0</td>\n      <td>0.0</td>\n      <td>932.0</td>\n      <td>670.0</td>\n      <td>90</td>\n      <td>47.029847</td>\n    </tr>\n    <tr>\n      <th>6</th>\n      <td>380.0</td>\n      <td>95.0</td>\n      <td>0.0</td>\n      <td>228.0</td>\n      <td>0.0</td>\n      <td>932.0</td>\n      <td>594.0</td>\n      <td>365</td>\n      <td>43.698299</td>\n    </tr>\n    <tr>\n      <th>7</th>\n      <td>380.0</td>\n      <td>95.0</td>\n      <td>0.0</td>\n      <td>228.0</td>\n      <td>0.0</td>\n      <td>932.0</td>\n      <td>594.0</td>\n      <td>28</td>\n      <td>36.447770</td>\n    </tr>\n    <tr>\n      <th>8</th>\n      <td>266.0</td>\n      <td>114.0</td>\n      <td>0.0</td>\n      <td>228.0</td>\n      <td>0.0</td>\n      <td>932.0</td>\n      <td>670.0</td>\n      <td>28</td>\n      <td>45.854291</td>\n    </tr>\n    <tr>\n      <th>9</th>\n      <td>475.0</td>\n      <td>0.0</td>\n      <td>0.0</td>\n      <td>228.0</td>\n      <td>0.0</td>\n      <td>932.0</td>\n      <td>594.0</td>\n      <td>28</td>\n      <td>39.289790</td>\n    </tr>\n  </tbody>\n</table>\n</div>"
     },
     "execution_count": 39,
     "metadata": {},
     "output_type": "execute_result"
    }
   ],
   "source": [
    "# 加载数据\n",
    "data = pd.read_excel(\"dataset/concrete/Concrete_Data.xls\")\n",
    "data.head(10)"
   ],
   "metadata": {
    "collapsed": false,
    "pycharm": {
     "name": "#%%\n"
    }
   }
  },
  {
   "cell_type": "code",
   "execution_count": 40,
   "outputs": [],
   "source": [
    "# 重命名label\n",
    "data.rename(columns={\"Concrete compressive strength(MPa, megapascals)\": \"label\"}, inplace=True)\n",
    "x_train, x_test, y_train, y_test = train_test_split(data.iloc[:, :8], data.iloc[:, 8])"
   ],
   "metadata": {
    "collapsed": false,
    "pycharm": {
     "name": "#%%\n"
    }
   }
  },
  {
   "cell_type": "code",
   "execution_count": 41,
   "outputs": [
    {
     "data": {
      "text/plain": "XGBRegressor(base_score=0.5, booster='gbtree', callbacks=None,\n             colsample_bylevel=1, colsample_bynode=1, colsample_bytree=1,\n             early_stopping_rounds=None, enable_categorical=False,\n             eval_metric='rmse', gamma=0, gpu_id=-1, grow_policy='depthwise',\n             importance_type=None, interaction_constraints='',\n             learning_rate=0.1, max_bin=256, max_cat_to_onehot=4,\n             max_delta_step=0, max_depth=5, max_leaves=0, min_child_weight=1,\n             missing=nan, monotone_constraints='()', n_estimators=100, n_jobs=0,\n             num_parallel_tree=1, predictor='auto', random_state=0, reg_alpha=0,\n             reg_lambda=1, ...)",
      "text/html": "<style>#sk-container-id-6 {color: black;background-color: white;}#sk-container-id-6 pre{padding: 0;}#sk-container-id-6 div.sk-toggleable {background-color: white;}#sk-container-id-6 label.sk-toggleable__label {cursor: pointer;display: block;width: 100%;margin-bottom: 0;padding: 0.3em;box-sizing: border-box;text-align: center;}#sk-container-id-6 label.sk-toggleable__label-arrow:before {content: \"▸\";float: left;margin-right: 0.25em;color: #696969;}#sk-container-id-6 label.sk-toggleable__label-arrow:hover:before {color: black;}#sk-container-id-6 div.sk-estimator:hover label.sk-toggleable__label-arrow:before {color: black;}#sk-container-id-6 div.sk-toggleable__content {max-height: 0;max-width: 0;overflow: hidden;text-align: left;background-color: #f0f8ff;}#sk-container-id-6 div.sk-toggleable__content pre {margin: 0.2em;color: black;border-radius: 0.25em;background-color: #f0f8ff;}#sk-container-id-6 input.sk-toggleable__control:checked~div.sk-toggleable__content {max-height: 200px;max-width: 100%;overflow: auto;}#sk-container-id-6 input.sk-toggleable__control:checked~label.sk-toggleable__label-arrow:before {content: \"▾\";}#sk-container-id-6 div.sk-estimator input.sk-toggleable__control:checked~label.sk-toggleable__label {background-color: #d4ebff;}#sk-container-id-6 div.sk-label input.sk-toggleable__control:checked~label.sk-toggleable__label {background-color: #d4ebff;}#sk-container-id-6 input.sk-hidden--visually {border: 0;clip: rect(1px 1px 1px 1px);clip: rect(1px, 1px, 1px, 1px);height: 1px;margin: -1px;overflow: hidden;padding: 0;position: absolute;width: 1px;}#sk-container-id-6 div.sk-estimator {font-family: monospace;background-color: #f0f8ff;border: 1px dotted black;border-radius: 0.25em;box-sizing: border-box;margin-bottom: 0.5em;}#sk-container-id-6 div.sk-estimator:hover {background-color: #d4ebff;}#sk-container-id-6 div.sk-parallel-item::after {content: \"\";width: 100%;border-bottom: 1px solid gray;flex-grow: 1;}#sk-container-id-6 div.sk-label:hover label.sk-toggleable__label {background-color: #d4ebff;}#sk-container-id-6 div.sk-serial::before {content: \"\";position: absolute;border-left: 1px solid gray;box-sizing: border-box;top: 0;bottom: 0;left: 50%;z-index: 0;}#sk-container-id-6 div.sk-serial {display: flex;flex-direction: column;align-items: center;background-color: white;padding-right: 0.2em;padding-left: 0.2em;position: relative;}#sk-container-id-6 div.sk-item {position: relative;z-index: 1;}#sk-container-id-6 div.sk-parallel {display: flex;align-items: stretch;justify-content: center;background-color: white;position: relative;}#sk-container-id-6 div.sk-item::before, #sk-container-id-6 div.sk-parallel-item::before {content: \"\";position: absolute;border-left: 1px solid gray;box-sizing: border-box;top: 0;bottom: 0;left: 50%;z-index: -1;}#sk-container-id-6 div.sk-parallel-item {display: flex;flex-direction: column;z-index: 1;position: relative;background-color: white;}#sk-container-id-6 div.sk-parallel-item:first-child::after {align-self: flex-end;width: 50%;}#sk-container-id-6 div.sk-parallel-item:last-child::after {align-self: flex-start;width: 50%;}#sk-container-id-6 div.sk-parallel-item:only-child::after {width: 0;}#sk-container-id-6 div.sk-dashed-wrapped {border: 1px dashed gray;margin: 0 0.4em 0.5em 0.4em;box-sizing: border-box;padding-bottom: 0.4em;background-color: white;}#sk-container-id-6 div.sk-label label {font-family: monospace;font-weight: bold;display: inline-block;line-height: 1.2em;}#sk-container-id-6 div.sk-label-container {text-align: center;}#sk-container-id-6 div.sk-container {/* jupyter's `normalize.less` sets `[hidden] { display: none; }` but bootstrap.min.css set `[hidden] { display: none !important; }` so we also need the `!important` here to be able to override the default hidden behavior on the sphinx rendered scikit-learn.org. See: https://github.com/scikit-learn/scikit-learn/issues/21755 */display: inline-block !important;position: relative;}#sk-container-id-6 div.sk-text-repr-fallback {display: none;}</style><div id=\"sk-container-id-6\" class=\"sk-top-container\"><div class=\"sk-text-repr-fallback\"><pre>XGBRegressor(base_score=0.5, booster=&#x27;gbtree&#x27;, callbacks=None,\n             colsample_bylevel=1, colsample_bynode=1, colsample_bytree=1,\n             early_stopping_rounds=None, enable_categorical=False,\n             eval_metric=&#x27;rmse&#x27;, gamma=0, gpu_id=-1, grow_policy=&#x27;depthwise&#x27;,\n             importance_type=None, interaction_constraints=&#x27;&#x27;,\n             learning_rate=0.1, max_bin=256, max_cat_to_onehot=4,\n             max_delta_step=0, max_depth=5, max_leaves=0, min_child_weight=1,\n             missing=nan, monotone_constraints=&#x27;()&#x27;, n_estimators=100, n_jobs=0,\n             num_parallel_tree=1, predictor=&#x27;auto&#x27;, random_state=0, reg_alpha=0,\n             reg_lambda=1, ...)</pre><b>In a Jupyter environment, please rerun this cell to show the HTML representation or trust the notebook. <br />On GitHub, the HTML representation is unable to render, please try loading this page with nbviewer.org.</b></div><div class=\"sk-container\" hidden><div class=\"sk-item\"><div class=\"sk-estimator sk-toggleable\"><input class=\"sk-toggleable__control sk-hidden--visually\" id=\"sk-estimator-id-6\" type=\"checkbox\" checked><label for=\"sk-estimator-id-6\" class=\"sk-toggleable__label sk-toggleable__label-arrow\">XGBRegressor</label><div class=\"sk-toggleable__content\"><pre>XGBRegressor(base_score=0.5, booster=&#x27;gbtree&#x27;, callbacks=None,\n             colsample_bylevel=1, colsample_bynode=1, colsample_bytree=1,\n             early_stopping_rounds=None, enable_categorical=False,\n             eval_metric=&#x27;rmse&#x27;, gamma=0, gpu_id=-1, grow_policy=&#x27;depthwise&#x27;,\n             importance_type=None, interaction_constraints=&#x27;&#x27;,\n             learning_rate=0.1, max_bin=256, max_cat_to_onehot=4,\n             max_delta_step=0, max_depth=5, max_leaves=0, min_child_weight=1,\n             missing=nan, monotone_constraints=&#x27;()&#x27;, n_estimators=100, n_jobs=0,\n             num_parallel_tree=1, predictor=&#x27;auto&#x27;, random_state=0, reg_alpha=0,\n             reg_lambda=1, ...)</pre></div></div></div></div></div>"
     },
     "execution_count": 41,
     "metadata": {},
     "output_type": "execute_result"
    }
   ],
   "source": [
    "# 训练模型\n",
    "model = xgb.XGBRegressor(objective=\"reg:squarederror\", booster=\"gbtree\", n_estimators=100, max_depth=5, eval_metric=\"rmse\", learning_rate=0.1)\n",
    "model.fit(X=x_train, y=y_train)"
   ],
   "metadata": {
    "collapsed": false,
    "pycharm": {
     "name": "#%%\n"
    }
   }
  },
  {
   "cell_type": "code",
   "execution_count": 42,
   "outputs": [],
   "source": [
    "# 存储模型\n",
    "model.save_model(\"model/model.xgb\")"
   ],
   "metadata": {
    "collapsed": false,
    "pycharm": {
     "name": "#%%\n"
    }
   }
  },
  {
   "cell_type": "code",
   "execution_count": 43,
   "outputs": [],
   "source": [
    "# 加载模型并预测\n",
    "bst = xgb.XGBRegressor()\n",
    "bst.load_model(\"model/model.xgb\")\n",
    "y_pred = bst.predict(x_test)"
   ],
   "metadata": {
    "collapsed": false,
    "pycharm": {
     "name": "#%%\n"
    }
   }
  },
  {
   "cell_type": "code",
   "execution_count": 44,
   "outputs": [
    {
     "data": {
      "text/plain": "20.069843211822977"
     },
     "execution_count": 44,
     "metadata": {},
     "output_type": "execute_result"
    }
   ],
   "source": [
    "mean_squared_error(y_true=y_test, y_pred=y_pred)"
   ],
   "metadata": {
    "collapsed": false,
    "pycharm": {
     "name": "#%%\n"
    }
   }
  },
  {
   "cell_type": "code",
   "execution_count": 49,
   "outputs": [
    {
     "name": "stdout",
     "output_type": "stream",
     "text": [
      "27.8748   26.9516\n",
      "34.4876   33.6118\n",
      "65.9091   64.9024\n",
      "25.7450   28.0473\n",
      "39.3760   52.3087\n",
      "2.3318   4.2284\n",
      "35.3012   35.7222\n",
      "23.8359   25.8936\n",
      "47.9668   56.3802\n",
      "33.7292   32.9171\n",
      "25.1166   24.4310\n",
      "41.4099   40.5549\n",
      "52.0072   42.0710\n",
      "15.6159   13.1989\n",
      "7.3153   13.6732\n",
      "41.2445   38.0326\n",
      "56.8473   55.1291\n",
      "64.3005   64.5610\n",
      "75.4976   73.6868\n",
      "35.0764   35.6145\n",
      "31.2539   35.5392\n",
      "44.6091   39.3147\n",
      "23.5235   23.4030\n",
      "24.4833   23.6265\n",
      "38.5624   37.6467\n",
      "13.7137   11.3279\n",
      "4.7822   5.8673\n",
      "4.8277   9.2076\n",
      "15.4167   16.7532\n",
      "46.3879   38.3628\n",
      "11.4660   19.0169\n",
      "24.8487   23.1598\n",
      "41.6375   38.9411\n",
      "18.2877   21.9288\n",
      "22.3183   20.5509\n",
      "17.2438   16.0200\n",
      "52.4415   44.1296\n",
      "26.2580   20.9695\n",
      "32.0517   31.2531\n",
      "14.1439   18.4798\n",
      "41.0997   34.2206\n",
      "37.9557   35.8549\n",
      "60.3223   60.8899\n",
      "46.2018   49.0480\n",
      "13.1828   14.6253\n",
      "23.5180   25.7910\n",
      "37.4317   32.0701\n",
      "28.6270   33.7974\n",
      "26.0622   24.0229\n",
      "25.5596   26.6848\n",
      "31.3505   33.1522\n",
      "33.2741   27.8434\n",
      "27.6811   31.5774\n",
      "10.3939   15.9225\n",
      "26.3104   25.9958\n",
      "26.9447   27.4145\n",
      "44.2961   41.6973\n",
      "80.1998   73.7926\n",
      "37.7971   39.6607\n",
      "22.8975   54.4500\n",
      "37.1710   37.0889\n",
      "24.4488   21.1851\n",
      "36.3499   33.4313\n",
      "40.1482   40.6595\n",
      "11.4839   10.6686\n",
      "40.2695   40.8732\n",
      "53.9584   56.1562\n",
      "33.7623   34.6703\n",
      "68.7506   62.6436\n",
      "24.2820   26.8360\n",
      "15.0700   11.7608\n",
      "13.2931   13.9221\n",
      "60.2947   59.6232\n",
      "36.1492   34.9121\n",
      "16.5040   20.2235\n",
      "37.2317   37.0686\n",
      "32.8232   29.4451\n",
      "47.4015   39.5194\n",
      "38.4590   41.0975\n",
      "39.9413   38.8756\n",
      "61.9908   63.3729\n",
      "36.5884   36.8066\n",
      "23.0768   15.6106\n",
      "59.7983   57.6076\n",
      "11.9576   9.8707\n",
      "30.8816   37.3793\n",
      "22.8354   23.9546\n",
      "67.8651   47.2258\n",
      "39.0561   42.4652\n",
      "14.9409   19.1863\n",
      "52.4464   44.1296\n",
      "24.3937   26.0005\n",
      "41.0514   40.3731\n",
      "29.8709   29.9300\n",
      "21.2910   12.4920\n",
      "66.5965   65.3504\n",
      "33.3017   33.6868\n",
      "74.9874   62.4496\n",
      "40.5688   41.6922\n",
      "19.9879   21.1308\n",
      "38.1142   35.9341\n",
      "11.4660   12.6750\n",
      "37.4248   37.7729\n",
      "31.8400   31.7003\n",
      "19.1991   21.0061\n",
      "65.1969   65.3947\n",
      "41.6650   41.5364\n",
      "28.2375   29.1851\n",
      "46.2473   41.3024\n",
      "17.2755   22.1644\n",
      "60.2809   58.0849\n",
      "59.0950   56.2388\n",
      "52.8270   50.9912\n",
      "24.0007   24.9659\n",
      "40.8652   42.7571\n",
      "13.5654   12.3995\n",
      "56.6191   54.9897\n",
      "31.2677   30.9136\n",
      "22.9320   28.4826\n",
      "38.6038   36.5968\n",
      "22.7527   28.7042\n",
      "32.7205   28.7086\n",
      "49.1851   47.6694\n",
      "39.3967   32.0439\n",
      "24.4378   24.0016\n",
      "15.3615   18.9815\n",
      "38.9954   39.0400\n",
      "27.0412   23.2033\n",
      "21.8198   18.0610\n",
      "37.9143   37.1701\n",
      "19.9879   21.8204\n",
      "32.2399   33.1732\n",
      "35.7543   40.0498\n",
      "47.7821   42.1704\n",
      "29.9302   24.0557\n",
      "66.7807   62.6436\n",
      "33.0038   29.4195\n",
      "39.7793   40.5455\n",
      "48.6956   50.5307\n",
      "52.6139   53.1823\n",
      "21.1793   17.9310\n",
      "45.8364   48.5463\n",
      "24.2420   27.0863\n",
      "60.2947   59.6232\n",
      "23.7442   24.9572\n",
      "9.1314   9.4219\n",
      "15.5201   13.6563\n",
      "53.6923   49.0675\n",
      "36.4457   37.6855\n",
      "39.3215   36.4287\n",
      "33.0052   29.4985\n",
      "38.2039   40.9096\n",
      "33.3982   34.5383\n",
      "74.4979   71.7336\n",
      "71.9882   57.7138\n",
      "13.3552   11.2735\n",
      "17.5747   15.9124\n",
      "38.6307   38.4213\n",
      "49.7733   42.5850\n",
      "17.9953   18.7742\n",
      "39.5828   37.4286\n",
      "25.4830   18.8115\n",
      "44.8683   40.1729\n",
      "12.1810   13.4788\n",
      "20.7256   23.3272\n",
      "47.2774   48.8343\n",
      "50.4593   50.7125\n",
      "39.3001   33.5838\n",
      "41.0514   40.4120\n",
      "35.2322   36.3981\n",
      "42.1311   43.8730\n",
      "29.0683   30.1793\n",
      "58.7847   60.4663\n",
      "54.3783   51.7680\n",
      "52.0416   50.3107\n",
      "31.9000   30.1423\n",
      "17.5403   19.6166\n",
      "51.4349   53.2771\n",
      "39.7000   39.8129\n",
      "15.0492   14.3761\n",
      "17.5403   17.7719\n",
      "26.9227   27.0653\n",
      "44.6367   36.5875\n",
      "23.4050   17.8082\n",
      "22.4355   23.7266\n",
      "41.9346   44.0301\n",
      "39.1622   35.4144\n",
      "52.9083   51.9380\n",
      "48.5874   46.6681\n",
      "27.9355   30.6280\n",
      "42.1401   41.3102\n",
      "31.3505   25.8450\n",
      "53.3861   61.9410\n",
      "56.0613   51.9438\n",
      "56.6956   57.5907\n",
      "38.9968   37.7734\n",
      "30.1439   31.2958\n",
      "30.0798   35.1577\n",
      "26.8599   27.4152\n",
      "35.3143   33.6279\n",
      "25.1797   25.4401\n",
      "24.3385   28.6362\n",
      "27.6756   33.4396\n",
      "36.6388   41.3278\n",
      "33.0880   30.0588\n",
      "40.3895   41.7983\n",
      "55.5511   52.6534\n",
      "33.6051   30.8252\n",
      "28.5995   33.9248\n",
      "47.8138   40.3003\n",
      "42.0305   48.0015\n",
      "62.0528   58.5568\n",
      "21.9115   22.9455\n",
      "9.4458   14.7445\n",
      "25.7243   28.6822\n",
      "56.7439   54.9048\n",
      "36.2520   38.0867\n",
      "54.7651   69.0692\n",
      "45.3675   48.2488\n",
      "50.6551   49.0047\n",
      "33.1921   30.8031\n",
      "55.2546   57.8102\n",
      "33.5430   38.0560\n",
      "7.9959   6.9532\n",
      "37.3420   38.9794\n",
      "27.9238   25.3289\n",
      "48.7942   45.3011\n",
      "9.6947   11.2245\n",
      "69.2992   69.9446\n",
      "15.0444   14.6098\n",
      "26.9654   34.0499\n",
      "51.0350   52.4133\n",
      "29.5854   31.3185\n",
      "24.4281   24.0557\n",
      "54.5989   48.0998\n",
      "29.6544   27.3927\n",
      "33.0190   39.6775\n",
      "17.2004   16.1212\n",
      "66.9481   67.7533\n",
      "44.1334   52.4035\n",
      "10.7303   11.9814\n",
      "37.4317   32.4120\n",
      "24.0007   26.1964\n",
      "71.2987   70.6707\n",
      "39.4215   41.8428\n",
      "77.2972   77.1606\n",
      "54.0963   46.5412\n",
      "17.1659   13.4912\n",
      "15.7483   14.6955\n",
      "50.7323   48.3972\n",
      "50.5269   47.6178\n",
      "18.0339   19.3297\n",
      "26.9137   28.9349\n",
      "33.0604   28.5348\n",
      "28.0961   26.7473\n",
      "48.4012   46.5679\n",
      "13.8171   13.0338\n",
      "24.5798   21.3399\n"
     ]
    }
   ],
   "source": [
    "for t, p in zip(y_test, y_pred):\n",
    "    print(\"{0:.4f}   {1:.4f}\".format(t, p))\n"
   ],
   "metadata": {
    "collapsed": false,
    "pycharm": {
     "name": "#%%\n"
    }
   }
  }
 ],
 "metadata": {
  "kernelspec": {
   "display_name": "Python 3",
   "language": "python",
   "name": "python3"
  },
  "language_info": {
   "codemirror_mode": {
    "name": "ipython",
    "version": 2
   },
   "file_extension": ".py",
   "mimetype": "text/x-python",
   "name": "python",
   "nbconvert_exporter": "python",
   "pygments_lexer": "ipython2",
   "version": "2.7.6"
  }
 },
 "nbformat": 4,
 "nbformat_minor": 0
}